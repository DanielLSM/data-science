{
 "cells": [
  {
   "cell_type": "code",
   "execution_count": 2,
   "metadata": {},
   "outputs": [],
   "source": [
    "import pandas as pd\n",
    "import random import randint"
   ]
  },
  {
   "cell_type": "markdown",
   "metadata": {},
   "source": [
    "AT / Austria (also sometimes OE in German-speaking countries: for \"Oesterreich\"\n",
    "BE / Belgium\n",
    "BG / Bulgaria\n",
    "CH / Switzerland (from Confoederatio Helvetica)\n",
    "DE / Germany\n",
    "DK / Denmark\n",
    "ES / Spain\n",
    "FI / Finland\n",
    "FR / France\n",
    "GB / United Kingdom (of Great Britain and Northern Ireland)\n",
    "GR / Greece\n",
    "HU / Hungary\n",
    "IE / Ireland\n",
    "IS / Iceland\n",
    "IT / Italy\n",
    "LU / Luxembourg\n",
    "NO / Norway\n",
    "NL / Netherlands\n",
    "PO / Poland\n",
    "PT / Portugal\n",
    "RO / Romania\n",
    "RU / Russian Federation\n",
    "SE / Sweden\n",
    "TR / Turkey\n",
    "UA / Ukraine"
   ]
  },
  {
   "cell_type": "code",
   "execution_count": 6,
   "metadata": {},
   "outputs": [],
   "source": [
    "list_of_countries= ['AT','BE','BG','CH','DE','DK','ES','FI','FR','GB','GR','HU','IE','IS','IT','LU','NO','NL','PO','PT','RO','RU','SE','TR','UA']"
   ]
  },
  {
   "cell_type": "code",
   "execution_count": 8,
   "metadata": {},
   "outputs": [
    {
     "ename": "NameError",
     "evalue": "name 'randint' is not defined",
     "output_type": "error",
     "traceback": [
      "\u001b[0;31m---------------------------------------------------------------------------\u001b[0m",
      "\u001b[0;31mNameError\u001b[0m                                 Traceback (most recent call last)",
      "\u001b[0;32m<ipython-input-8-0b2fa3278f38>\u001b[0m in \u001b[0;36m<module>\u001b[0;34m()\u001b[0m\n\u001b[1;32m      2\u001b[0m \u001b[0mlen\u001b[0m\u001b[0;34m(\u001b[0m\u001b[0mlist_of_countries\u001b[0m\u001b[0;34m)\u001b[0m\u001b[0;34m\u001b[0m\u001b[0m\n\u001b[1;32m      3\u001b[0m \u001b[0;31m# 1 country with a probability of 30%, another with 20%, 15%, 11% and 20 with 1%\u001b[0m\u001b[0;34m\u001b[0m\u001b[0;34m\u001b[0m\u001b[0m\n\u001b[0;32m----> 4\u001b[0;31m \u001b[0mcountry_30\u001b[0m\u001b[0;34m=\u001b[0m\u001b[0mlist_of_countries\u001b[0m\u001b[0;34m[\u001b[0m\u001b[0mrandint\u001b[0m\u001b[0;34m(\u001b[0m\u001b[0;36m0\u001b[0m\u001b[0;34m,\u001b[0m\u001b[0;36m24\u001b[0m\u001b[0;34m)\u001b[0m\u001b[0;34m]\u001b[0m\u001b[0;34m\u001b[0m\u001b[0m\n\u001b[0m",
      "\u001b[0;31mNameError\u001b[0m: name 'randint' is not defined"
     ]
    }
   ],
   "source": [
    "# Making an unbalanced categorical atribute of countries\n",
    "len(list_of_countries)\n",
    "# 1 country with a probability of 30%, another with 20%, 15%, 11% and 20 with 1%\n",
    "country_30=list_of_countries[randint(0,24)]"
   ]
  }
 ],
 "metadata": {
  "kernelspec": {
   "display_name": "Python [conda env:siemens]",
   "language": "python",
   "name": "conda-env-siemens-py"
  },
  "language_info": {
   "codemirror_mode": {
    "name": "ipython",
    "version": 3
   },
   "file_extension": ".py",
   "mimetype": "text/x-python",
   "name": "python",
   "nbconvert_exporter": "python",
   "pygments_lexer": "ipython3",
   "version": "3.6.4"
  }
 },
 "nbformat": 4,
 "nbformat_minor": 2
}
