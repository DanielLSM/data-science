{
 "cells": [
  {
   "cell_type": "code",
   "execution_count": 1,
   "metadata": {},
   "outputs": [],
   "source": [
    "import pandas as pd"
   ]
  },
  {
   "cell_type": "markdown",
   "metadata": {},
   "source": [
    "## Task 3 Date Functions\n",
    "a) Write a function that takes as input two timestamps of the form 2017/05/13 12:00 and\n",
    "calculates their differences in hours."
   ]
  },
  {
   "cell_type": "code",
   "execution_count": 2,
   "metadata": {},
   "outputs": [
    {
     "name": "stdout",
     "output_type": "stream",
     "text": [
      "110.0 minutes / rounded hours 2\n"
     ]
    },
    {
     "data": {
      "text/plain": [
       "1.8333333333333333"
      ]
     },
     "execution_count": 2,
     "metadata": {},
     "output_type": "execute_result"
    }
   ],
   "source": [
    "t2 = '2017/10/13 19:00'\n",
    "t1 = '2017/10/13 17:10'\n",
    "def difference_hours(t1,t2):\n",
    "    \"\"\"\n",
    "    inputs: accepts t1 and t2\n",
    "    ----------------\n",
    "    outputs: number of absolute hours\n",
    "    \"\"\"\n",
    "    t1 = pd.to_datetime(t1, format='%Y/%m/%d %H:%M')\n",
    "    t2 = pd.to_datetime(t2, format='%Y/%m/%d %H:%M')\n",
    "    delta = t2-t1\n",
    "    print('{} minutes / rounded hours {}'.format(delta.seconds/60,round(delta.seconds/3600)))\n",
    "    return delta.seconds/3600\n",
    "\n",
    "difference_hours(t1,t2)"
   ]
  },
  {
   "cell_type": "code",
   "execution_count": 3,
   "metadata": {},
   "outputs": [],
   "source": [
    "# auxiliar function, computes the hours between 2 pandas dataframes\n",
    "def short(t1,t2):\n",
    "    \"\"\"\n",
    "    accepts t1 and t2\n",
    "    ----------------\n",
    "    outputs number of absolute hours\n",
    "    \"\"\"\n",
    "    delta = t2-t1\n",
    "    return delta.seconds/3600"
   ]
  },
  {
   "cell_type": "code",
   "execution_count": 4,
   "metadata": {},
   "outputs": [
    {
     "data": {
      "text/plain": [
       "23.166666666666668"
      ]
     },
     "execution_count": 4,
     "metadata": {},
     "output_type": "execute_result"
    }
   ],
   "source": [
    "start_time = pd.to_datetime(\"2018/1/8 13:00\", format='%Y/%m/%d %H:%M')\n",
    "end_time = pd.to_datetime(\"2018/1/8 12:10\", format='%Y/%m/%d %H:%M')\n",
    "short(start_time,end_time)"
   ]
  },
  {
   "cell_type": "markdown",
   "metadata": {},
   "source": [
    "b) Expand the above function to only count the time difference between 09:00 – 17:00 and only on weekdays."
   ]
  },
  {
   "cell_type": "code",
   "execution_count": 5,
   "metadata": {},
   "outputs": [],
   "source": [
    "from pandas.tseries.offsets import BusinessHour\n",
    "bh = BusinessHour()\n",
    "\n",
    "def business_difference_hours(start_time,end_time):\n",
    "    \"\"\"\n",
    "    inputs: start_time, end_time\n",
    "    outputs: number of business hours between the 2 dates\n",
    "    \"\"\"\n",
    "    t_1 = pd.to_datetime(start_time, format='%Y/%m/%d %H:%M')\n",
    "    t_2 = pd.to_datetime(end_time, format='%Y/%m/%d %H:%M')\n",
    "    delta = t_2 - t_1\n",
    "    if delta.value < 0:\n",
    "        return print(\"End time should be at a later date than start time!\")\n",
    "        \n",
    "    time_2 = t_2 + bh\n",
    "\n",
    "    if t_1.hour < 9 or t_1.hour > 16: hours_t1_left,time_1 = 0,t_1 + bh\n",
    "    else: hours_t1_left,time_1 = t_1.minute/60, t_1 + bh - pd.DateOffset(minutes=t_1.minute)\n",
    "    \n",
    "    # counting business hours until they are the same\n",
    "    hours = 0\n",
    "    while time_1.year!=time_2.year or time_1.month!=time_2.month or time_1.day!=time_2.day or time_1.hour!=time_1.hour:\n",
    "        time_1 += bh\n",
    "        hours += 1\n",
    "    compounded_hours = hours + short(time_1,time_2) - hours_t1_left\n",
    "    print('{} working minutes / {} rounded working hours '.format(int(compounded_hours*60),round(compounded_hours)))\n",
    "    return compounded_hours"
   ]
  },
  {
   "cell_type": "code",
   "execution_count": 6,
   "metadata": {},
   "outputs": [
    {
     "name": "stdout",
     "output_type": "stream",
     "text": [
      "25 working minutes / 0 rounded working hours \n"
     ]
    },
    {
     "data": {
      "text/plain": [
       "0.41666666666666674"
      ]
     },
     "execution_count": 6,
     "metadata": {},
     "output_type": "execute_result"
    }
   ],
   "source": [
    "start_time = pd.to_datetime(\"2018/1/12 16:45\", format='%Y/%m/%d %H:%M')\n",
    "end_time = pd.to_datetime(\"2018/1/15 9:10\", format='%Y/%m/%d %H:%M')\n",
    "business_difference_hours(start_time,end_time)"
   ]
  },
  {
   "cell_type": "code",
   "execution_count": 7,
   "metadata": {},
   "outputs": [
    {
     "data": {
      "text/plain": [
       "Timestamp('2018-01-15 10:10:00')"
      ]
     },
     "execution_count": 7,
     "metadata": {},
     "output_type": "execute_result"
    }
   ],
   "source": [
    "end_time+=bh\n",
    "end_time"
   ]
  },
  {
   "cell_type": "code",
   "execution_count": 8,
   "metadata": {},
   "outputs": [
    {
     "data": {
      "text/plain": [
       "Timestamp('2018-01-15 09:45:00')"
      ]
     },
     "execution_count": 8,
     "metadata": {},
     "output_type": "execute_result"
    }
   ],
   "source": [
    "start_time+=bh\n",
    "start_time"
   ]
  },
  {
   "cell_type": "code",
   "execution_count": 9,
   "metadata": {},
   "outputs": [
    {
     "name": "stdout",
     "output_type": "stream",
     "text": [
      "[NbConvertApp] Converting notebook Task 3 Date Functions.ipynb to html\n",
      "[NbConvertApp] Writing 265983 bytes to Task 3 Date Functions.html\n"
     ]
    }
   ],
   "source": [
    "!jupyter nbconvert Task\\ 3\\ Date\\ Functions.ipynb --to html"
   ]
  }
 ],
 "metadata": {
  "kernelspec": {
   "display_name": "Python [conda env:siemens]",
   "language": "python",
   "name": "conda-env-siemens-py"
  },
  "language_info": {
   "codemirror_mode": {
    "name": "ipython",
    "version": 3
   },
   "file_extension": ".py",
   "mimetype": "text/x-python",
   "name": "python",
   "nbconvert_exporter": "python",
   "pygments_lexer": "ipython3",
   "version": "3.6.4"
  }
 },
 "nbformat": 4,
 "nbformat_minor": 2
}
