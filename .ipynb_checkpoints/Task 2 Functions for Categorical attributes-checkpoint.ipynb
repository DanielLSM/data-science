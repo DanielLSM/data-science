{
 "cells": [
  {
   "cell_type": "code",
   "execution_count": 5,
   "metadata": {},
   "outputs": [],
   "source": [
    "import pandas as pd\n",
    "import numpy\n",
    "from random import randint"
   ]
  },
  {
   "cell_type": "markdown",
   "metadata": {},
   "source": [
    "AT / Austria (also sometimes OE in German-speaking countries: for \"Oesterreich\"\n",
    "BE / Belgium\n",
    "BG / Bulgaria\n",
    "CH / Switzerland (from Confoederatio Helvetica)\n",
    "DE / Germany\n",
    "DK / Denmark\n",
    "ES / Spain\n",
    "FI / Finland\n",
    "FR / France\n",
    "GB / United Kingdom (of Great Britain and Northern Ireland)\n",
    "GR / Greece\n",
    "HU / Hungary\n",
    "IE / Ireland\n",
    "IS / Iceland\n",
    "IT / Italy\n",
    "LU / Luxembourg\n",
    "NO / Norway\n",
    "NL / Netherlands\n",
    "PO / Poland\n",
    "PT / Portugal\n",
    "RO / Romania\n",
    "RU / Russian Federation\n",
    "SE / Sweden\n",
    "TR / Turkey\n",
    "UA / Ukraine"
   ]
  },
  {
   "cell_type": "code",
   "execution_count": 51,
   "metadata": {},
   "outputs": [],
   "source": [
    "list_of_countries= ['AT','BE','BG','CH','DE','DK','ES','FI','FR','GB','GR','HU','IE','IS','IT','LU','NO','NL','PO','PT','RO','RU','SE','TR','UA']"
   ]
  },
  {
   "cell_type": "code",
   "execution_count": 52,
   "metadata": {},
   "outputs": [
    {
     "data": {
      "text/plain": [
       "'AT'"
      ]
     },
     "execution_count": 52,
     "metadata": {},
     "output_type": "execute_result"
    }
   ],
   "source": []
  },
  {
   "cell_type": "code",
   "execution_count": 53,
   "metadata": {},
   "outputs": [],
   "source": [
    "# Making an unbalanced categorical atribute of countries\n",
    "len(list_of_countries)\n",
    "# 1 country with a probability of 35%, another with 25%, 20%, 19% \n",
    "# and the rest of the 21 countries will have a 1% between themselfs\n",
    "country_35=list_of_countries[0]\n",
    "country_25=list_of_countries[2]\n",
    "country_20=list_of_countries[1]\n",
    "country_19=list_of_countries[3]\n",
    "others_1 = list_of_countries[4:25]"
   ]
  },
  {
   "cell_type": "code",
   "execution_count": 115,
   "metadata": {},
   "outputs": [],
   "source": [
    "#Making a categorical attribute by building a list of countries into a pandas dataframe\n",
    "def p():\n",
    "    return randint(0,100)/100\n",
    "\n",
    "countries =[]\n",
    "for i in range(200):\n",
    "    per = p()\n",
    "#     print(per)\n",
    "    if per>0.65:countries.append(country_30)\n",
    "    elif 0.65>=per>0.40:countries.append(country_25)\n",
    "    elif 0.40>=per>0.20:countries.append(country_20)\n",
    "    elif 0.20>=per>0.01:countries.append(country_15)\n",
    "    else: countries.append(others_1[randint(0,20)])\n",
    "\n",
    "assert len(countries) == 200\n",
    "country_attributes = list(set(countries))\n",
    "countries_dataframe = pd.DataFrame()\n",
    "countries_dataframe['Country'] = se = pd.Series(countries)"
   ]
  },
  {
   "cell_type": "code",
   "execution_count": 114,
   "metadata": {},
   "outputs": [
    {
     "data": {
      "text/plain": [
       "['HU', 'BE', 'PO', 'BG', 'GB', 'CH', 'AT', 'IT', 'ES']"
      ]
     },
     "execution_count": 114,
     "metadata": {},
     "output_type": "execute_result"
    }
   ],
   "source": [
    "list(country_attributes)"
   ]
  },
  {
   "cell_type": "code",
   "execution_count": 131,
   "metadata": {},
   "outputs": [
    {
     "data": {
      "text/plain": [
       "{'AT': 0.30500000000000016,\n",
       " 'BE': 0.18500000000000008,\n",
       " 'BG': 0.2650000000000001,\n",
       " 'CH': 0.2100000000000001,\n",
       " 'DK': 0.005,\n",
       " 'ES': 0.005,\n",
       " 'PO': 0.005,\n",
       " 'PT': 0.005,\n",
       " 'RO': 0.005,\n",
       " 'TR': 0.01}"
      ]
     },
     "execution_count": 131,
     "metadata": {},
     "output_type": "execute_result"
    }
   ],
   "source": [
    "frequency_dictionary=dict((value,0) for value in country_attributes)\n",
    "for i in countries_dataframe.values:\n",
    "    for k in frequency_dictionary.keys():\n",
    "        if k == i: frequency_dictionary[k]+=1/len\n",
    "frequency_dictionary"
   ]
  },
  {
   "cell_type": "code",
   "execution_count": 129,
   "metadata": {},
   "outputs": [],
   "source": [
    "def naive_dimensionality_reduction(countries_dataframe, percentage):\n",
    "    frequency_dictionary=dict((value,0) for value in country_attributes)\n",
    "    for i in countries_dataframe.values:\n",
    "        for k in frequency_dictionary.keys():\n",
    "            if k == i: frequency_dictionary[k]+=1/len(countries_dataframe)\n",
    "    \n",
    "    if\n",
    "    \n",
    "    "
   ]
  },
  {
   "cell_type": "code",
   "execution_count": null,
   "metadata": {},
   "outputs": [],
   "source": []
  }
 ],
 "metadata": {
  "kernelspec": {
   "display_name": "Python [conda env:siemens]",
   "language": "python",
   "name": "conda-env-siemens-py"
  },
  "language_info": {
   "codemirror_mode": {
    "name": "ipython",
    "version": 3
   },
   "file_extension": ".py",
   "mimetype": "text/x-python",
   "name": "python",
   "nbconvert_exporter": "python",
   "pygments_lexer": "ipython3",
   "version": "3.6.4"
  }
 },
 "nbformat": 4,
 "nbformat_minor": 2
}
