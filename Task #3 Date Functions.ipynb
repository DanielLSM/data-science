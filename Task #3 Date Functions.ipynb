{
 "cells": [
  {
   "cell_type": "code",
   "execution_count": 1,
   "metadata": {},
   "outputs": [],
   "source": [
    "import pandas as pd"
   ]
  },
  {
   "cell_type": "code",
   "execution_count": 2,
   "metadata": {},
   "outputs": [
    {
     "data": {
      "text/plain": [
       "Timestamp('2010-11-12 00:00:00')"
      ]
     },
     "execution_count": 2,
     "metadata": {},
     "output_type": "execute_result"
    }
   ],
   "source": [
    "pd.to_datetime('12-11-2010 00:00', format='%d-%m-%Y %H:%M')"
   ]
  },
  {
   "cell_type": "code",
   "execution_count": 3,
   "metadata": {},
   "outputs": [
    {
     "data": {
      "text/plain": [
       "0    58.0\n",
       "1     3.0\n",
       "2     8.0\n",
       "dtype: float64"
      ]
     },
     "execution_count": 3,
     "metadata": {},
     "output_type": "execute_result"
    }
   ],
   "source": [
    "import pandas\n",
    "df = pandas.DataFrame(columns=['to','fr','ans'])\n",
    "df.to = [pandas.Timestamp('2014-01-24 13:03:12.050000'), pandas.Timestamp('2014-01-27 11:57:18.240000'), pandas.Timestamp('2014-01-23 10:07:47.660000')]\n",
    "df.fr = [pandas.Timestamp('2014-01-26 23:41:21.870000'), pandas.Timestamp('2014-01-27 15:38:22.540000'), pandas.Timestamp('2014-01-23 18:50:41.420000')]\n",
    "(df.fr-df.to).astype('timedelta64[h]')"
   ]
  },
  {
   "cell_type": "code",
   "execution_count": 6,
   "metadata": {},
   "outputs": [
    {
     "name": "stdout",
     "output_type": "stream",
     "text": [
      "110.0 minutes / rounded hours 2\n"
     ]
    },
    {
     "data": {
      "text/plain": [
       "1.8333333333333333"
      ]
     },
     "execution_count": 6,
     "metadata": {},
     "output_type": "execute_result"
    }
   ],
   "source": [
    "t2 = '2017/10/13 19:00'\n",
    "t1 = '2017/10/13 17:10'\n",
    "\n",
    "def lel(t1,t2):\n",
    "    \"\"\"\n",
    "    accepts t1 and t2\n",
    "    ----------------\n",
    "    outputs number of absolute hours\n",
    "    \"\"\"\n",
    "    t1 = pd.to_datetime(t1, format='%Y/%m/%d %H:%M')\n",
    "    t2 = pd.to_datetime(t2, format='%Y/%m/%d %H:%M')\n",
    "    delta = t2-t1\n",
    "    print('{} minutes / rounded hours {}'.format(delta.seconds/60,round(delta.seconds/3600)))\n",
    "    return delta.seconds/3600 #.astype('timedelta64[h]')\n",
    "\n",
    "a=lel(t1,t2)\n",
    "a"
   ]
  },
  {
   "cell_type": "code",
   "execution_count": 19,
   "metadata": {},
   "outputs": [
    {
     "data": {
      "text/plain": [
       "Components(days=0, hours=1, minutes=50, seconds=0, milliseconds=0, microseconds=0, nanoseconds=0)"
      ]
     },
     "execution_count": 19,
     "metadata": {},
     "output_type": "execute_result"
    }
   ],
   "source": [
    "a.components"
   ]
  },
  {
   "cell_type": "code",
   "execution_count": 21,
   "metadata": {},
   "outputs": [
    {
     "data": {
      "text/plain": [
       "1.8333333333333333"
      ]
     },
     "execution_count": 21,
     "metadata": {},
     "output_type": "execute_result"
    }
   ],
   "source": [
    "a.seconds / 3600"
   ]
  },
  {
   "cell_type": "code",
   "execution_count": 7,
   "metadata": {},
   "outputs": [
    {
     "data": {
      "text/plain": [
       "DatetimeIndex(['2017-10-13'], dtype='datetime64[ns]', freq='B')"
      ]
     },
     "execution_count": 7,
     "metadata": {},
     "output_type": "execute_result"
    }
   ],
   "source": [
    "t1 = '2017/10/13 17:10'\n",
    "t2 = '2017/10/13 19:00'\n",
    "\n",
    "from pandas.tseries.offsets import BusinessHour,BDay\n",
    "\n",
    "bd = BDay()\n",
    "bh = BusinessHour()\n",
    "\n",
    "def lel(t1,t2):\n",
    "    \"\"\"\n",
    "    accepts t1 and t2\n",
    "    ----------------\n",
    "    outputs number of absolute hours\n",
    "    \"\"\"\n",
    "    t1 = pd.to_datetime(t1, format='%Y/%m/%d %H:%M')\n",
    "    t2 = pd.to_datetime(t2, format='%Y/%m/%d %H:%M')\n",
    "    delta = pd.bdate_range(t1,t2)\n",
    "    #print('{} minutes / rounded hours {}'.format(delta.seconds/60,round(delta.seconds/3600)))\n",
    "    return delta #delta.seconds/3600 #.astype('timedelta64[h]')\n",
    "a=lel(t1,t2)\n",
    "a"
   ]
  },
  {
   "cell_type": "code",
   "execution_count": 41,
   "metadata": {},
   "outputs": [],
   "source": [
    "t_1 = pd.to_datetime(\"2018/1/7 16:00\", format='%Y/%m/%d %H:%M')\n",
    "t_2 = pd.to_datetime(\"2018/1/7 16:00\", format='%Y/%m/%d %H:%M')"
   ]
  },
  {
   "cell_type": "code",
   "execution_count": 113,
   "metadata": {},
   "outputs": [
    {
     "data": {
      "text/plain": [
       "16"
      ]
     },
     "execution_count": 113,
     "metadata": {},
     "output_type": "execute_result"
    }
   ],
   "source": [
    "t_1.hour"
   ]
  },
  {
   "cell_type": "code",
   "execution_count": 42,
   "metadata": {},
   "outputs": [
    {
     "data": {
      "text/plain": [
       "0"
      ]
     },
     "execution_count": 42,
     "metadata": {},
     "output_type": "execute_result"
    }
   ],
   "source": [
    "delta = t_2 - t_1\n",
    "delta.value\n"
   ]
  },
  {
   "cell_type": "code",
   "execution_count": 37,
   "metadata": {},
   "outputs": [
    {
     "data": {
      "text/plain": [
       "Timestamp('2018-01-08 10:00:00')"
      ]
     },
     "execution_count": 37,
     "metadata": {},
     "output_type": "execute_result"
    }
   ],
   "source": [
    "(t_1+bh) - pd.DateOffset(hours=1) "
   ]
  },
  {
   "cell_type": "code",
   "execution_count": 35,
   "metadata": {},
   "outputs": [
    {
     "data": {
      "text/plain": [
       "Timestamp('2018-01-07 15:10:00')"
      ]
     },
     "execution_count": 35,
     "metadata": {},
     "output_type": "execute_result"
    }
   ],
   "source": [
    "t_1+pd.DateOffset(hours=1)"
   ]
  },
  {
   "cell_type": "code",
   "execution_count": 11,
   "metadata": {},
   "outputs": [
    {
     "data": {
      "text/plain": [
       "Timestamp('2018-01-08 09:00:00')"
      ]
     },
     "execution_count": 11,
     "metadata": {},
     "output_type": "execute_result"
    }
   ],
   "source": [
    "BusinessHour().rollforward(t_1)"
   ]
  },
  {
   "cell_type": "code",
   "execution_count": 32,
   "metadata": {},
   "outputs": [
    {
     "data": {
      "text/plain": [
       "Timestamp('2017-10-13 16:00:00')"
      ]
     },
     "execution_count": 32,
     "metadata": {},
     "output_type": "execute_result"
    }
   ],
   "source": [
    "df.t1 - bh"
   ]
  },
  {
   "cell_type": "code",
   "execution_count": 12,
   "metadata": {},
   "outputs": [
    {
     "data": {
      "text/plain": [
       "datetime.timedelta(0)"
      ]
     },
     "execution_count": 12,
     "metadata": {},
     "output_type": "execute_result"
    }
   ],
   "source": [
    "bh.offset"
   ]
  },
  {
   "cell_type": "code",
   "execution_count": 41,
   "metadata": {},
   "outputs": [
    {
     "ename": "TypeError",
     "evalue": "Cannot compare type 'Timedelta' with type 'int'",
     "output_type": "error",
     "traceback": [
      "\u001b[0;31m---------------------------------------------------------------------------\u001b[0m",
      "\u001b[0;31mTypeError\u001b[0m                                 Traceback (most recent call last)",
      "\u001b[0;32m<ipython-input-41-3d8ac59276aa>\u001b[0m in \u001b[0;36m<module>\u001b[0;34m()\u001b[0m\n\u001b[1;32m      1\u001b[0m \u001b[0mlulito\u001b[0m \u001b[0;34m=\u001b[0m \u001b[0mBusinessHour\u001b[0m\u001b[0;34m(\u001b[0m\u001b[0;34m)\u001b[0m\u001b[0;34m.\u001b[0m\u001b[0mrollback\u001b[0m\u001b[0;34m(\u001b[0m\u001b[0mpd\u001b[0m\u001b[0;34m.\u001b[0m\u001b[0mTimestamp\u001b[0m\u001b[0;34m(\u001b[0m\u001b[0mt1\u001b[0m\u001b[0;34m)\u001b[0m\u001b[0;34m)\u001b[0m\u001b[0;34m\u001b[0m\u001b[0m\n\u001b[0;32m----> 2\u001b[0;31m \u001b[0;32mif\u001b[0m \u001b[0mlulito\u001b[0m\u001b[0;34m-\u001b[0m\u001b[0mdf\u001b[0m\u001b[0;34m.\u001b[0m\u001b[0mt1\u001b[0m\u001b[0;34m<\u001b[0m\u001b[0;36m0\u001b[0m\u001b[0;34m:\u001b[0m\u001b[0;34m\u001b[0m\u001b[0m\n\u001b[0m\u001b[1;32m      3\u001b[0m     \u001b[0mprint\u001b[0m\u001b[0;34m(\u001b[0m\u001b[0;34m\"haha\"\u001b[0m\u001b[0;34m)\u001b[0m\u001b[0;34m\u001b[0m\u001b[0m\n",
      "\u001b[0;32mpandas/_libs/tslib.pyx\u001b[0m in \u001b[0;36mpandas._libs.tslib._Timedelta.__richcmp__\u001b[0;34m()\u001b[0m\n",
      "\u001b[0;31mTypeError\u001b[0m: Cannot compare type 'Timedelta' with type 'int'"
     ]
    }
   ],
   "source": [
    "lulito = BusinessHour().rollback(pd.Timestamp(t1))\n",
    "if lulito-df.t1<0:\n",
    "    print(\"haha\")"
   ]
  },
  {
   "cell_type": "code",
   "execution_count": 47,
   "metadata": {},
   "outputs": [
    {
     "data": {
      "text/plain": [
       "numpy.datetime64('2017-10-13T17:00:00.000000000')"
      ]
     },
     "execution_count": 47,
     "metadata": {},
     "output_type": "execute_result"
    }
   ],
   "source": [
    "lulito.to_datetime64()"
   ]
  },
  {
   "cell_type": "code",
   "execution_count": 47,
   "metadata": {},
   "outputs": [],
   "source": [
    "def short(t1,t2):\n",
    "    \"\"\"\n",
    "    accepts t1 and t2\n",
    "    ----------------\n",
    "    outputs number of absolute hours\n",
    "    \"\"\"\n",
    "    delta = t2-t1\n",
    "    #print('{} minutes / rounded hours {}'.format(delta.seconds/60,round(delta.seconds/3600)))\n",
    "    return delta.seconds/3600 #.astype('timedelta64[h]')"
   ]
  },
  {
   "cell_type": "code",
   "execution_count": 196,
   "metadata": {},
   "outputs": [
    {
     "data": {
      "text/plain": [
       "23.166666666666668"
      ]
     },
     "execution_count": 196,
     "metadata": {},
     "output_type": "execute_result"
    }
   ],
   "source": [
    "start_time = pd.to_datetime(\"2018/1/8 13:00\", format='%Y/%m/%d %H:%M')\n",
    "end_time = pd.to_datetime(\"2018/1/8 12:10\", format='%Y/%m/%d %H:%M')\n",
    "short(start_time,end_time)"
   ]
  },
  {
   "cell_type": "code",
   "execution_count": 206,
   "metadata": {},
   "outputs": [],
   "source": [
    "def lulitos(start_time,end_time):\n",
    "    \"\"\"\n",
    "    inputs: start_time, end_time\n",
    "    outputs: number of business hours between the 2 dates\n",
    "    \"\"\"\n",
    "    t_1 = pd.to_datetime(start_time, format='%Y/%m/%d %H:%M')\n",
    "    t_2 = pd.to_datetime(end_time, format='%Y/%m/%d %H:%M')\n",
    "    delta = t_2 - t_1\n",
    "    if delta.value < 0:\n",
    "        return print(\"End time should be at a later date than start time!\")\n",
    "        \n",
    "    time_2 = t_2 + bh\n",
    "\n",
    "    if t_1.hour < 9 or t_1.hour > 16: hours_t1_left,time_1 = 0,t_1 + bh\n",
    "    else: hours_t1_left,time_1 = t_1.minute/60, t_1 + bh - pd.DateOffset(minutes=t_1.minute)\n",
    "\n",
    "    hours = 0\n",
    "    while time_1.year!=time_2.year or time_1.month!=time_2.month or time_1.day!=time_2.day or time_1.hour!=time_1.hour:\n",
    "        time_1 += bh\n",
    "        hours += 1\n",
    "    compounded_hours = hours + short(time_1,time_2) - hours_t1_left\n",
    "    print('{} working minutes / {} rounded working hours '.format(int(compounded_hours*60),round(compounded_hours)))\n",
    "    return compounded_hours"
   ]
  },
  {
   "cell_type": "code",
   "execution_count": 214,
   "metadata": {},
   "outputs": [
    {
     "name": "stdout",
     "output_type": "stream",
     "text": [
      "11065 working minutes / 184 rounded working hours \n"
     ]
    },
    {
     "data": {
      "text/plain": [
       "184.41666666666666"
      ]
     },
     "execution_count": 214,
     "metadata": {},
     "output_type": "execute_result"
    }
   ],
   "source": [
    "start_time = pd.to_datetime(\"2018/1/12 16:45\", format='%Y/%m/%d %H:%M')\n",
    "end_time = pd.to_datetime(\"2018/2/15 9:10\", format='%Y/%m/%d %H:%M')\n",
    "lulitos(start_time,end_time)"
   ]
  },
  {
   "cell_type": "code",
   "execution_count": 179,
   "metadata": {},
   "outputs": [
    {
     "data": {
      "text/plain": [
       "Timestamp('2018-01-15 09:10:00')"
      ]
     },
     "execution_count": 179,
     "metadata": {},
     "output_type": "execute_result"
    }
   ],
   "source": [
    "end_time+=bh\n",
    "end_time"
   ]
  },
  {
   "cell_type": "code",
   "execution_count": 186,
   "metadata": {},
   "outputs": [
    {
     "data": {
      "text/plain": [
       "Timestamp('2018-01-09 09:00:00')"
      ]
     },
     "execution_count": 186,
     "metadata": {},
     "output_type": "execute_result"
    }
   ],
   "source": [
    "start_time+=bh\n",
    "start_time"
   ]
  },
  {
   "cell_type": "code",
   "execution_count": null,
   "metadata": {},
   "outputs": [],
   "source": []
  }
 ],
 "metadata": {
  "kernelspec": {
   "display_name": "Python [conda env:siemens]",
   "language": "python",
   "name": "conda-env-siemens-py"
  },
  "language_info": {
   "codemirror_mode": {
    "name": "ipython",
    "version": 3
   },
   "file_extension": ".py",
   "mimetype": "text/x-python",
   "name": "python",
   "nbconvert_exporter": "python",
   "pygments_lexer": "ipython3",
   "version": "3.6.4"
  }
 },
 "nbformat": 4,
 "nbformat_minor": 2
}
